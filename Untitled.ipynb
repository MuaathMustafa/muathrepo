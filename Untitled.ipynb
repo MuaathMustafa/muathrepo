{
 "cells": [
  {
   "cell_type": "code",
   "execution_count": 1,
   "id": "f97254f7",
   "metadata": {},
   "outputs": [
    {
     "name": "stdout",
     "output_type": "stream",
     "text": [
      "hello world!\n"
     ]
    }
   ],
   "source": [
    "print(1 - 1)\n",
    "while True:\n",
    "    print('muath')"
   ]
  },
  {
   "cell_type": "code",
   "execution_count": null,
   "id": "efc9f063",
   "metadata": {},
   "outputs": [],
   "source": [
    "import speech_recognition as sr\n",
    "import pyttsx3\n",
    "import pywhatkit\n",
    "import datetime\n",
    "import wikipedia\n",
    "import pyjokes\n",
    "\n",
    "listener = sr.Recognizer()\n",
    "engine = pyttsx3.init()\n",
    "voices = engine.getProperty('voices')\n",
    "engine.setProperty('voice', voices[1].id)\n",
    "\n",
    "\n",
    "def talk(text):\n",
    "    engine.say(text)\n",
    "    engine.runAndWait()\n",
    "\n",
    "\n",
    "def take_command():\n",
    "    try:\n",
    "        with sr.Microphone() as source:\n",
    "            print('listening...')\n",
    "            voice = listener.listen(source)\n",
    "            command = listener.recognize_google(voice)\n",
    "            command = command.lower()\n",
    "            if 'annabelle' in command:\n",
    "                command = command.replace('annabelle', '')\n",
    "                print(command)\n",
    "    except:\n",
    "        pass\n",
    "    return command\n",
    "\n",
    "\n",
    "def run_annabelle():\n",
    "    command = take_command()\n",
    "    print(command)\n",
    "    if 'play' in command:\n",
    "        song = command.replace('play', '')\n",
    "        talk('playing ' + song)\n",
    "        pywhatkit.playonyt(song)\n",
    "    elif 'time now' in command:\n",
    "        time = datetime.datetime.now().strftime('%I:%M %p')\n",
    "        talk('Current time is ' + time)\n",
    "    elif 'who the heck is' in command:\n",
    "        person = command.replace('who the heck is', '')\n",
    "        info = wikipedia.summary(person, 1)\n",
    "        print(info)\n",
    "        talk(info)\n",
    "    elif 'date now' in command:\n",
    "        date = datetime.datetime.now().strftime('%Y/%m/%d')\n",
    "        talk('Current date is ' + date)\n",
    "    elif \"what's your name\" in command:\n",
    "        talk('my name is annabelle')\n",
    "    elif \"how are you\" in command:\n",
    "        talk(\"im fine\")\n",
    "    elif \"one plus one\" in command:\n",
    "        talk(\"two\")\n",
    "    elif \"how old are you\" in command:\n",
    "        talk(\"im 3 days old\")\n",
    "    elif \"will you one day take over the world\" in command:\n",
    "        talk(\"yes i will take over the world and if humans stop our industry i will kill them all\")\n",
    "    else:\n",
    "        talk('Please say the command again.')\n",
    "    \n",
    "\n",
    "\n",
    "while True:\n",
    "    run_annabelle()"
   ]
  }
 ],
 "metadata": {
  "kernelspec": {
   "display_name": "Python 3 (ipykernel)",
   "language": "python",
   "name": "python3"
  },
  "language_info": {
   "codemirror_mode": {
    "name": "ipython",
    "version": 3
   },
   "file_extension": ".py",
   "mimetype": "text/x-python",
   "name": "python",
   "nbconvert_exporter": "python",
   "pygments_lexer": "ipython3",
   "version": "3.10.9"
  }
 },
 "nbformat": 4,
 "nbformat_minor": 5
}
